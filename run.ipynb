{
 "cells": [
  {
   "cell_type": "code",
   "execution_count": 17,
   "metadata": {},
   "outputs": [
    {
     "name": "stdout",
     "output_type": "stream",
     "text": [
      "[2023/11/28 21:56:43] ppocr DEBUG: dt_boxes num : 2, elapsed : 2.498685836791992\n",
      "[2023/11/28 21:56:43] ppocr DEBUG: rec_res num  : 2, elapsed : 0.1217041015625\n",
      "[2023/11/28 21:56:43] ppocr DEBUG: 0  Predict time of ./test_imgs/JJ_KF06_M0001_1979639_9-tf.jpg: 2.628s\n",
      "[2023/11/28 21:56:43] ppocr DEBUG: 먹태, 1.000\n",
      "[2023/11/28 21:56:43] ppocr DEBUG: 노랑봉투감자, 0.999\n",
      "[2023/11/28 21:56:43] ppocr DEBUG: The visualized image saved in ./inference_results/JJ_KF06_M0001_1979639_9-tf.jpg\n",
      "[2023/11/28 21:56:43] ppocr INFO: The predict total time is 2.9221620559692383\n"
     ]
    }
   ],
   "source": [
    "!python3 ./predict_system.py --image_dir=\"./test_imgs\" \\\n",
    " --det_algorithm=\"DB++\" \\\n",
    " --det_model_dir=\"./model/detection\" \\\n",
    " --rec_model_dir=\"./model/recognition\" \\\n",
    " --rec_image_shape=\"3, 48, 320\"  \\\n",
    " --rec_char_dict_path=\"./ppocr/utils/korean_dict.txt\" \\\n",
    " --use_gpu=False"
   ]
  }
 ],
 "metadata": {
  "kernelspec": {
   "display_name": "main",
   "language": "python",
   "name": "python3"
  },
  "language_info": {
   "codemirror_mode": {
    "name": "ipython",
    "version": 3
   },
   "file_extension": ".py",
   "mimetype": "text/x-python",
   "name": "python",
   "nbconvert_exporter": "python",
   "pygments_lexer": "ipython3",
   "version": "3.8.16"
  }
 },
 "nbformat": 4,
 "nbformat_minor": 2
}
